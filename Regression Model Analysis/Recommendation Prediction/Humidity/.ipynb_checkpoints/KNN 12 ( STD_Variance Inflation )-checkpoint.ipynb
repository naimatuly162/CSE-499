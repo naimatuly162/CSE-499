{
 "cells": [
  {
   "cell_type": "code",
   "execution_count": 1,
   "metadata": {},
   "outputs": [],
   "source": [
    "import numpy as np\n",
    "import pandas as pd\n",
    "import seaborn as sns\n",
    "from scipy import stats\n",
    "import matplotlib.pyplot as plt\n",
    "from sklearn.feature_selection import SelectKBest\n",
    "import statsmodels.api as sm\n",
    "from statsmodels.stats import diagnostic as diag\n",
    "from statsmodels.stats.outliers_influence import variance_inflation_factor\n",
    "from sklearn.feature_selection import chi2\n",
    "\n",
    "from sklearn.metrics import mean_squared_error, r2_score, mean_absolute_error"
   ]
  },
  {
   "cell_type": "code",
   "execution_count": 2,
   "metadata": {},
   "outputs": [
    {
     "data": {
      "text/html": [
       "<div>\n",
       "<style scoped>\n",
       "    .dataframe tbody tr th:only-of-type {\n",
       "        vertical-align: middle;\n",
       "    }\n",
       "\n",
       "    .dataframe tbody tr th {\n",
       "        vertical-align: top;\n",
       "    }\n",
       "\n",
       "    .dataframe thead th {\n",
       "        text-align: right;\n",
       "    }\n",
       "</style>\n",
       "<table border=\"1\" class=\"dataframe\">\n",
       "  <thead>\n",
       "    <tr style=\"text-align: right;\">\n",
       "      <th></th>\n",
       "      <th>Districts_N</th>\n",
       "      <th>Area</th>\n",
       "      <th>Category_N</th>\n",
       "      <th>Crop_N</th>\n",
       "      <th>Year</th>\n",
       "      <th>Rainfall</th>\n",
       "    </tr>\n",
       "  </thead>\n",
       "  <tbody>\n",
       "    <tr>\n",
       "      <td>0</td>\n",
       "      <td>2</td>\n",
       "      <td>163915</td>\n",
       "      <td>1</td>\n",
       "      <td>1</td>\n",
       "      <td>1979</td>\n",
       "      <td>26.000</td>\n",
       "    </tr>\n",
       "    <tr>\n",
       "      <td>1</td>\n",
       "      <td>2</td>\n",
       "      <td>169130</td>\n",
       "      <td>1</td>\n",
       "      <td>1</td>\n",
       "      <td>1980</td>\n",
       "      <td>8.000</td>\n",
       "    </tr>\n",
       "    <tr>\n",
       "      <td>2</td>\n",
       "      <td>2</td>\n",
       "      <td>178380</td>\n",
       "      <td>1</td>\n",
       "      <td>1</td>\n",
       "      <td>1981</td>\n",
       "      <td>11.000</td>\n",
       "    </tr>\n",
       "    <tr>\n",
       "      <td>3</td>\n",
       "      <td>2</td>\n",
       "      <td>176380</td>\n",
       "      <td>1</td>\n",
       "      <td>1</td>\n",
       "      <td>1982</td>\n",
       "      <td>17.667</td>\n",
       "    </tr>\n",
       "    <tr>\n",
       "      <td>4</td>\n",
       "      <td>2</td>\n",
       "      <td>169560</td>\n",
       "      <td>1</td>\n",
       "      <td>1</td>\n",
       "      <td>1983</td>\n",
       "      <td>27.667</td>\n",
       "    </tr>\n",
       "  </tbody>\n",
       "</table>\n",
       "</div>"
      ],
      "text/plain": [
       "   Districts_N    Area  Category_N  Crop_N  Year  Rainfall\n",
       "0            2  163915           1       1  1979    26.000\n",
       "1            2  169130           1       1  1980     8.000\n",
       "2            2  178380           1       1  1981    11.000\n",
       "3            2  176380           1       1  1982    17.667\n",
       "4            2  169560           1       1  1983    27.667"
      ]
     },
     "execution_count": 2,
     "metadata": {},
     "output_type": "execute_result"
    }
   ],
   "source": [
    "dataset = pd.read_csv(r'/home/akhtar/Desktop/Ml Algorithms/Dataset/crops.csv')\n",
    "dataset_12 = dataset.drop(['Max_Temp', 'X_COR', 'Y_COR', 'LATITUDE','LONGITUDE','Min_Temp','Rainfall','Wind_Speed','Cloud_Coverage','Bright_Sunshine','ALT','Productions'], axis = 1)\n",
    "dataset_12.head()"
   ]
  },
  {
   "cell_type": "code",
   "execution_count": 3,
   "metadata": {},
   "outputs": [],
   "source": [
    "X = dataset_12.iloc[:, :-1]\n",
    "y = dataset_12.iloc[:, -1]"
   ]
  },
  {
   "cell_type": "code",
   "execution_count": 4,
   "metadata": {},
   "outputs": [],
   "source": [
    "from sklearn.preprocessing import StandardScaler\n",
    "sc_X = StandardScaler()\n",
    "sc_y = StandardScaler()\n",
    "X = sc_X.fit_transform(X)\n",
    "y = sc_y.fit_transform(y.values.reshape(-1,1))"
   ]
  },
  {
   "cell_type": "code",
   "execution_count": 5,
   "metadata": {},
   "outputs": [],
   "source": [
    "from sklearn.model_selection import train_test_split\n",
    "X_train, X_test, y_train, y_test = train_test_split(X, y, test_size=0.2)"
   ]
  },
  {
   "cell_type": "code",
   "execution_count": 6,
   "metadata": {},
   "outputs": [
    {
     "name": "stdout",
     "output_type": "stream",
     "text": [
      "Accurecy:  0.7807052531472516\n"
     ]
    }
   ],
   "source": [
    "from sklearn.neighbors import KNeighborsRegressor\n",
    "\n",
    "regressor = KNeighborsRegressor(n_neighbors=10)\n",
    "\n",
    "regressor.fit(X_train, y_train)\n",
    "y_pred = regressor.predict(X_test)\n",
    "\n",
    "print(\"Accurecy: \", r2_score(y_test, y_pred))"
   ]
  },
  {
   "cell_type": "markdown",
   "metadata": {},
   "source": [
    "# Cross Validation"
   ]
  },
  {
   "cell_type": "code",
   "execution_count": 7,
   "metadata": {},
   "outputs": [
    {
     "name": "stdout",
     "output_type": "stream",
     "text": [
      "Cross Validation Score:  [-3.83218106e+01 -1.43977618e+01 -1.02355113e+00 -3.31703264e-01\n",
      " -2.68953604e+01 -1.46712849e+01 -6.07703123e+00 -1.60987698e+00\n",
      " -9.51902517e+00 -8.16918495e+00 -5.36611499e-01 -2.93744554e+01\n",
      " -2.00433938e+02 -1.58940622e+01 -4.14016003e+01 -7.63189917e+01\n",
      "  5.42614575e-01 -2.06598485e+00 -1.33525085e+00 -5.41935689e-01\n",
      " -7.64159306e-01 -1.80436283e+00 -1.51742752e+00 -6.37600008e-01\n",
      " -1.21276092e+00 -5.22763094e-01 -2.27316239e-01 -3.65762444e-01\n",
      " -6.48053329e-01 -5.70297203e-01 -1.27417258e-01 -6.82320725e-01\n",
      " -2.17027871e-01 -2.32477325e-01 -4.21725777e-01 -8.90662003e-01\n",
      " -6.77654421e-01 -2.40416238e+00 -3.85905011e-01 -5.78945052e+00\n",
      " -3.32509100e-02 -6.13247712e-02 -6.95316067e-01 -1.59520481e+00\n",
      "  4.14879137e-01 -1.37805189e+00 -1.21585830e+00 -1.24704001e+01\n",
      " -4.25244604e-02  6.15584085e-02 -7.56753018e-02 -1.98134876e-01\n",
      " -2.49648224e-02 -3.11248613e-02 -1.29886503e-01  1.98880247e-01\n",
      "  9.41186111e-03]\n",
      "\n",
      "Cross Predicted Accuracy: 0.7497792317775978\n"
     ]
    }
   ],
   "source": [
    "# from sklearn.model_selection import cross_val_score, cross_val_predict\n",
    "\n",
    "# print(\"Cross Validation Score: \", cross_val_score(regressor,X,y, cv=57))\n",
    "\n",
    "# print()\n",
    "# predictions = cross_val_predict(regressor,X,y, cv=3500)\n",
    "# accuracy = r2_score(y, predictions)\n",
    "# print (\"Cross Predicted Accuracy:\", accuracy)"
   ]
  },
  {
   "cell_type": "code",
   "execution_count": null,
   "metadata": {},
   "outputs": [],
   "source": []
  }
 ],
 "metadata": {
  "kernelspec": {
   "display_name": "Python 3",
   "language": "python",
   "name": "python3"
  },
  "language_info": {
   "codemirror_mode": {
    "name": "ipython",
    "version": 3
   },
   "file_extension": ".py",
   "mimetype": "text/x-python",
   "name": "python",
   "nbconvert_exporter": "python",
   "pygments_lexer": "ipython3",
   "version": "3.7.4"
  }
 },
 "nbformat": 4,
 "nbformat_minor": 2
}
