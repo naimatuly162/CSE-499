{
 "cells": [
  {
   "cell_type": "code",
   "execution_count": 1,
   "metadata": {},
   "outputs": [],
   "source": [
    "import numpy as np\n",
    "import pandas as pd\n",
    "import seaborn as sns\n",
    "from scipy import stats\n",
    "import matplotlib.pyplot as plt\n",
    "from sklearn.feature_selection import SelectKBest\n",
    "import statsmodels.api as sm\n",
    "from statsmodels.stats import diagnostic as diag\n",
    "from statsmodels.stats.outliers_influence import variance_inflation_factor\n",
    "from sklearn.feature_selection import chi2\n",
    "\n",
    "from sklearn.metrics import mean_squared_error, r2_score, mean_absolute_error"
   ]
  },
  {
   "cell_type": "code",
   "execution_count": 2,
   "metadata": {},
   "outputs": [
    {
     "data": {
      "text/html": [
       "<div>\n",
       "<style scoped>\n",
       "    .dataframe tbody tr th:only-of-type {\n",
       "        vertical-align: middle;\n",
       "    }\n",
       "\n",
       "    .dataframe tbody tr th {\n",
       "        vertical-align: top;\n",
       "    }\n",
       "\n",
       "    .dataframe thead th {\n",
       "        text-align: right;\n",
       "    }\n",
       "</style>\n",
       "<table border=\"1\" class=\"dataframe\">\n",
       "  <thead>\n",
       "    <tr style=\"text-align: right;\">\n",
       "      <th></th>\n",
       "      <th>Districts_N</th>\n",
       "      <th>Area</th>\n",
       "      <th>Category_N</th>\n",
       "      <th>Crop_N</th>\n",
       "      <th>Year</th>\n",
       "      <th>Rainfall</th>\n",
       "      <th>Min_Temp</th>\n",
       "      <th>Humidity</th>\n",
       "      <th>Wind_Speed</th>\n",
       "      <th>Cloud_Coverage</th>\n",
       "      <th>Bright_Sunshine</th>\n",
       "      <th>ALT</th>\n",
       "      <th>Productions</th>\n",
       "    </tr>\n",
       "  </thead>\n",
       "  <tbody>\n",
       "    <tr>\n",
       "      <td>0</td>\n",
       "      <td>2</td>\n",
       "      <td>163915</td>\n",
       "      <td>1</td>\n",
       "      <td>1</td>\n",
       "      <td>1979</td>\n",
       "      <td>26.000</td>\n",
       "      <td>15.933</td>\n",
       "      <td>78.667</td>\n",
       "      <td>0.333</td>\n",
       "      <td>1.100</td>\n",
       "      <td>8.700</td>\n",
       "      <td>4</td>\n",
       "      <td>67525.0</td>\n",
       "    </tr>\n",
       "    <tr>\n",
       "      <td>1</td>\n",
       "      <td>2</td>\n",
       "      <td>169130</td>\n",
       "      <td>1</td>\n",
       "      <td>1</td>\n",
       "      <td>1980</td>\n",
       "      <td>8.000</td>\n",
       "      <td>14.833</td>\n",
       "      <td>77.333</td>\n",
       "      <td>0.433</td>\n",
       "      <td>1.333</td>\n",
       "      <td>8.500</td>\n",
       "      <td>4</td>\n",
       "      <td>76485.0</td>\n",
       "    </tr>\n",
       "    <tr>\n",
       "      <td>2</td>\n",
       "      <td>2</td>\n",
       "      <td>178380</td>\n",
       "      <td>1</td>\n",
       "      <td>1</td>\n",
       "      <td>1981</td>\n",
       "      <td>11.000</td>\n",
       "      <td>14.333</td>\n",
       "      <td>75.333</td>\n",
       "      <td>0.367</td>\n",
       "      <td>1.233</td>\n",
       "      <td>8.167</td>\n",
       "      <td>4</td>\n",
       "      <td>75495.0</td>\n",
       "    </tr>\n",
       "    <tr>\n",
       "      <td>3</td>\n",
       "      <td>2</td>\n",
       "      <td>176380</td>\n",
       "      <td>1</td>\n",
       "      <td>1</td>\n",
       "      <td>1982</td>\n",
       "      <td>17.667</td>\n",
       "      <td>13.667</td>\n",
       "      <td>77.000</td>\n",
       "      <td>0.300</td>\n",
       "      <td>1.067</td>\n",
       "      <td>7.933</td>\n",
       "      <td>4</td>\n",
       "      <td>76655.0</td>\n",
       "    </tr>\n",
       "    <tr>\n",
       "      <td>4</td>\n",
       "      <td>2</td>\n",
       "      <td>169560</td>\n",
       "      <td>1</td>\n",
       "      <td>1</td>\n",
       "      <td>1983</td>\n",
       "      <td>27.667</td>\n",
       "      <td>14.500</td>\n",
       "      <td>83.333</td>\n",
       "      <td>0.300</td>\n",
       "      <td>1.700</td>\n",
       "      <td>8.133</td>\n",
       "      <td>4</td>\n",
       "      <td>76310.0</td>\n",
       "    </tr>\n",
       "  </tbody>\n",
       "</table>\n",
       "</div>"
      ],
      "text/plain": [
       "   Districts_N    Area  Category_N  Crop_N  Year  Rainfall  Min_Temp  \\\n",
       "0            2  163915           1       1  1979    26.000    15.933   \n",
       "1            2  169130           1       1  1980     8.000    14.833   \n",
       "2            2  178380           1       1  1981    11.000    14.333   \n",
       "3            2  176380           1       1  1982    17.667    13.667   \n",
       "4            2  169560           1       1  1983    27.667    14.500   \n",
       "\n",
       "   Humidity  Wind_Speed  Cloud_Coverage  Bright_Sunshine  ALT  Productions  \n",
       "0    78.667       0.333           1.100            8.700    4      67525.0  \n",
       "1    77.333       0.433           1.333            8.500    4      76485.0  \n",
       "2    75.333       0.367           1.233            8.167    4      75495.0  \n",
       "3    77.000       0.300           1.067            7.933    4      76655.0  \n",
       "4    83.333       0.300           1.700            8.133    4      76310.0  "
      ]
     },
     "execution_count": 2,
     "metadata": {},
     "output_type": "execute_result"
    }
   ],
   "source": [
    "dataset = pd.read_csv(r'/home/akhtar/Desktop/Ml Algorithms/Dataset/crops.csv')\n",
    "dataset_12 = dataset.drop(['Max_Temp', 'X_COR', 'Y_COR', 'LATITUDE','LONGITUDE'], axis = 1)\n",
    "dataset_12.head()"
   ]
  },
  {
   "cell_type": "code",
   "execution_count": 3,
   "metadata": {},
   "outputs": [],
   "source": [
    "X = dataset_12.iloc[:, :-1]\n",
    "y = dataset_12.iloc[:, -1]"
   ]
  },
  {
   "cell_type": "code",
   "execution_count": 4,
   "metadata": {},
   "outputs": [],
   "source": [
    "from sklearn.preprocessing import StandardScaler\n",
    "sc_X = StandardScaler()\n",
    "sc_y = StandardScaler()\n",
    "X = sc_X.fit_transform(X)\n",
    "y = sc_y.fit_transform(y.values.reshape(-1,1))"
   ]
  },
  {
   "cell_type": "code",
   "execution_count": 5,
   "metadata": {},
   "outputs": [],
   "source": [
    "from sklearn.model_selection import train_test_split\n",
    "X_train, X_test, y_train, y_test = train_test_split(X, y, test_size=0.2)"
   ]
  },
  {
   "cell_type": "code",
   "execution_count": 9,
   "metadata": {},
   "outputs": [
    {
     "name": "stdout",
     "output_type": "stream",
     "text": [
      "Accurecy:  0.5975591669814992\n"
     ]
    }
   ],
   "source": [
    "from sklearn.linear_model import Ridge\n",
    "\n",
    "ridge = Ridge(alpha=0.4)\n",
    "ridge.fit(X_train, y_train)\n",
    "\n",
    "#linear.coef_\n",
    "y_pred = ridge.predict(X_test)\n",
    "\n",
    "#np.mean((y_test - y_pred)**2)\n",
    "print(\"Accurecy: \", r2_score(y_test, y_pred))"
   ]
  },
  {
   "cell_type": "code",
   "execution_count": null,
   "metadata": {},
   "outputs": [],
   "source": []
  }
 ],
 "metadata": {
  "kernelspec": {
   "display_name": "Python 3",
   "language": "python",
   "name": "python3"
  },
  "language_info": {
   "codemirror_mode": {
    "name": "ipython",
    "version": 3
   },
   "file_extension": ".py",
   "mimetype": "text/x-python",
   "name": "python",
   "nbconvert_exporter": "python",
   "pygments_lexer": "ipython3",
   "version": "3.7.4"
  }
 },
 "nbformat": 4,
 "nbformat_minor": 2
}
