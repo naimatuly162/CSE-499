{
 "cells": [
  {
   "cell_type": "code",
   "execution_count": 1,
   "metadata": {},
   "outputs": [],
   "source": [
    "import numpy as np\n",
    "import pandas as pd\n",
    "import matplotlib.pyplot as plt\n",
    "from sklearn.metrics import mean_squared_error, r2_score, mean_absolute_error"
   ]
  },
  {
   "cell_type": "code",
   "execution_count": 2,
   "metadata": {},
   "outputs": [
    {
     "data": {
      "text/html": [
       "<div>\n",
       "<style scoped>\n",
       "    .dataframe tbody tr th:only-of-type {\n",
       "        vertical-align: middle;\n",
       "    }\n",
       "\n",
       "    .dataframe tbody tr th {\n",
       "        vertical-align: top;\n",
       "    }\n",
       "\n",
       "    .dataframe thead th {\n",
       "        text-align: right;\n",
       "    }\n",
       "</style>\n",
       "<table border=\"1\" class=\"dataframe\">\n",
       "  <thead>\n",
       "    <tr style=\"text-align: right;\">\n",
       "      <th></th>\n",
       "      <th>Districts_N</th>\n",
       "      <th>Area</th>\n",
       "      <th>Category_N</th>\n",
       "      <th>Crop_N</th>\n",
       "      <th>Year</th>\n",
       "      <th>Rainfall</th>\n",
       "      <th>Humidity</th>\n",
       "      <th>Wind_Speed</th>\n",
       "      <th>Bright_Sunshine</th>\n",
       "      <th>ALT</th>\n",
       "      <th>Productions</th>\n",
       "    </tr>\n",
       "  </thead>\n",
       "  <tbody>\n",
       "    <tr>\n",
       "      <td>0</td>\n",
       "      <td>2</td>\n",
       "      <td>163915</td>\n",
       "      <td>1</td>\n",
       "      <td>1</td>\n",
       "      <td>1979</td>\n",
       "      <td>26.000000</td>\n",
       "      <td>78.666667</td>\n",
       "      <td>0.333333</td>\n",
       "      <td>8.700000</td>\n",
       "      <td>4</td>\n",
       "      <td>67525.0</td>\n",
       "    </tr>\n",
       "    <tr>\n",
       "      <td>1</td>\n",
       "      <td>2</td>\n",
       "      <td>169130</td>\n",
       "      <td>1</td>\n",
       "      <td>1</td>\n",
       "      <td>1980</td>\n",
       "      <td>8.000000</td>\n",
       "      <td>77.333333</td>\n",
       "      <td>0.433333</td>\n",
       "      <td>8.500000</td>\n",
       "      <td>4</td>\n",
       "      <td>76485.0</td>\n",
       "    </tr>\n",
       "    <tr>\n",
       "      <td>2</td>\n",
       "      <td>2</td>\n",
       "      <td>178380</td>\n",
       "      <td>1</td>\n",
       "      <td>1</td>\n",
       "      <td>1981</td>\n",
       "      <td>11.000000</td>\n",
       "      <td>75.333333</td>\n",
       "      <td>0.366667</td>\n",
       "      <td>8.166667</td>\n",
       "      <td>4</td>\n",
       "      <td>75495.0</td>\n",
       "    </tr>\n",
       "    <tr>\n",
       "      <td>3</td>\n",
       "      <td>2</td>\n",
       "      <td>176380</td>\n",
       "      <td>1</td>\n",
       "      <td>1</td>\n",
       "      <td>1982</td>\n",
       "      <td>17.666667</td>\n",
       "      <td>77.000000</td>\n",
       "      <td>0.300000</td>\n",
       "      <td>7.933333</td>\n",
       "      <td>4</td>\n",
       "      <td>76655.0</td>\n",
       "    </tr>\n",
       "    <tr>\n",
       "      <td>4</td>\n",
       "      <td>2</td>\n",
       "      <td>169560</td>\n",
       "      <td>1</td>\n",
       "      <td>1</td>\n",
       "      <td>1983</td>\n",
       "      <td>27.666667</td>\n",
       "      <td>83.333333</td>\n",
       "      <td>0.300000</td>\n",
       "      <td>8.133333</td>\n",
       "      <td>4</td>\n",
       "      <td>76310.0</td>\n",
       "    </tr>\n",
       "  </tbody>\n",
       "</table>\n",
       "</div>"
      ],
      "text/plain": [
       "   Districts_N    Area  Category_N  Crop_N  Year   Rainfall   Humidity  \\\n",
       "0            2  163915           1       1  1979  26.000000  78.666667   \n",
       "1            2  169130           1       1  1980   8.000000  77.333333   \n",
       "2            2  178380           1       1  1981  11.000000  75.333333   \n",
       "3            2  176380           1       1  1982  17.666667  77.000000   \n",
       "4            2  169560           1       1  1983  27.666667  83.333333   \n",
       "\n",
       "   Wind_Speed  Bright_Sunshine  ALT  Productions  \n",
       "0    0.333333         8.700000    4      67525.0  \n",
       "1    0.433333         8.500000    4      76485.0  \n",
       "2    0.366667         8.166667    4      75495.0  \n",
       "3    0.300000         7.933333    4      76655.0  \n",
       "4    0.300000         8.133333    4      76310.0  "
      ]
     },
     "execution_count": 2,
     "metadata": {},
     "output_type": "execute_result"
    }
   ],
   "source": [
    "dataset = pd.read_csv(r'/home/akhtar/Desktop/Ml Algorithms/Dataset/crops.csv')\n",
    "dataset = dataset.drop(['Max_Temp', 'X_COR', 'Y_COR', 'LATITUDE','LONGITUDE', 'Min_Temp', 'Cloud_Coverage'], axis = 1)\n",
    "dataset.head()"
   ]
  },
  {
   "cell_type": "code",
   "execution_count": 3,
   "metadata": {},
   "outputs": [],
   "source": [
    "X = dataset.iloc[:, :-1]\n",
    "y = dataset.iloc[:, -1]"
   ]
  },
  {
   "cell_type": "code",
   "execution_count": 4,
   "metadata": {},
   "outputs": [],
   "source": [
    "from sklearn.model_selection import train_test_split\n",
    "X_train, X_test, y_train, y_test = train_test_split(X, y, test_size=0.2, random_state=3)\n"
   ]
  },
  {
   "cell_type": "code",
   "execution_count": 5,
   "metadata": {},
   "outputs": [
    {
     "data": {
      "text/plain": [
       "array([76626.])"
      ]
     },
     "execution_count": 5,
     "metadata": {},
     "output_type": "execute_result"
    }
   ],
   "source": [
    "from sklearn.ensemble import RandomForestRegressor\n",
    "\n",
    "regressor = RandomForestRegressor(n_estimators=5)\n",
    "regressor.fit(X_train, y_train)\n",
    "y_pred = regressor.predict([[6,163915,1,1,1979,26.000000,78.666667,0.333333,8.700000,4]])\n",
    "#y_pred = sc_y.inverse_transform(y_pred)\n",
    "y_pred"
   ]
  }
 ],
 "metadata": {
  "kernelspec": {
   "display_name": "Python 3",
   "language": "python",
   "name": "python3"
  },
  "language_info": {
   "codemirror_mode": {
    "name": "ipython",
    "version": 3
   },
   "file_extension": ".py",
   "mimetype": "text/x-python",
   "name": "python",
   "nbconvert_exporter": "python",
   "pygments_lexer": "ipython3",
   "version": "3.7.4"
  }
 },
 "nbformat": 4,
 "nbformat_minor": 2
}
