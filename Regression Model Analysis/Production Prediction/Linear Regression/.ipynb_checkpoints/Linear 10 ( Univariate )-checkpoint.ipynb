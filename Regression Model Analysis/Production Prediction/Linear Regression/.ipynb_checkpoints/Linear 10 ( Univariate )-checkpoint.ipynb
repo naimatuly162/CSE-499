{
 "cells": [
  {
   "cell_type": "code",
   "execution_count": 1,
   "metadata": {},
   "outputs": [],
   "source": [
    "import numpy as np\n",
    "import pandas as pd\n",
    "import seaborn as sns\n",
    "from scipy import stats\n",
    "import matplotlib.pyplot as plt\n",
    "from sklearn.feature_selection import SelectKBest\n",
    "import statsmodels.api as sm\n",
    "from statsmodels.stats import diagnostic as diag\n",
    "from statsmodels.stats.outliers_influence import variance_inflation_factor\n",
    "from sklearn.feature_selection import chi2\n",
    "from sklearn.metrics import mean_squared_error, r2_score, mean_absolute_error"
   ]
  },
  {
   "cell_type": "code",
   "execution_count": 2,
   "metadata": {},
   "outputs": [
    {
     "data": {
      "text/html": [
       "<div>\n",
       "<style scoped>\n",
       "    .dataframe tbody tr th:only-of-type {\n",
       "        vertical-align: middle;\n",
       "    }\n",
       "\n",
       "    .dataframe tbody tr th {\n",
       "        vertical-align: top;\n",
       "    }\n",
       "\n",
       "    .dataframe thead th {\n",
       "        text-align: right;\n",
       "    }\n",
       "</style>\n",
       "<table border=\"1\" class=\"dataframe\">\n",
       "  <thead>\n",
       "    <tr style=\"text-align: right;\">\n",
       "      <th></th>\n",
       "      <th>Districts_N</th>\n",
       "      <th>Area</th>\n",
       "      <th>Crop_N</th>\n",
       "      <th>Min_Temp</th>\n",
       "      <th>Rainfall</th>\n",
       "      <th>Wind_Speed</th>\n",
       "      <th>Cloud_Coverage</th>\n",
       "      <th>X_COR</th>\n",
       "      <th>Y_COR</th>\n",
       "      <th>ALT</th>\n",
       "      <th>Productions</th>\n",
       "    </tr>\n",
       "  </thead>\n",
       "  <tbody>\n",
       "    <tr>\n",
       "      <td>0</td>\n",
       "      <td>2</td>\n",
       "      <td>163915</td>\n",
       "      <td>1</td>\n",
       "      <td>15.933333</td>\n",
       "      <td>26.000000</td>\n",
       "      <td>0.333333</td>\n",
       "      <td>1.100000</td>\n",
       "      <td>536809.8</td>\n",
       "      <td>510151.9</td>\n",
       "      <td>4</td>\n",
       "      <td>67525.0</td>\n",
       "    </tr>\n",
       "    <tr>\n",
       "      <td>1</td>\n",
       "      <td>2</td>\n",
       "      <td>169130</td>\n",
       "      <td>1</td>\n",
       "      <td>14.833333</td>\n",
       "      <td>8.000000</td>\n",
       "      <td>0.433333</td>\n",
       "      <td>1.333333</td>\n",
       "      <td>536809.8</td>\n",
       "      <td>510151.9</td>\n",
       "      <td>4</td>\n",
       "      <td>76485.0</td>\n",
       "    </tr>\n",
       "    <tr>\n",
       "      <td>2</td>\n",
       "      <td>2</td>\n",
       "      <td>178380</td>\n",
       "      <td>1</td>\n",
       "      <td>14.333333</td>\n",
       "      <td>11.000000</td>\n",
       "      <td>0.366667</td>\n",
       "      <td>1.233333</td>\n",
       "      <td>536809.8</td>\n",
       "      <td>510151.9</td>\n",
       "      <td>4</td>\n",
       "      <td>75495.0</td>\n",
       "    </tr>\n",
       "    <tr>\n",
       "      <td>3</td>\n",
       "      <td>2</td>\n",
       "      <td>176380</td>\n",
       "      <td>1</td>\n",
       "      <td>13.666667</td>\n",
       "      <td>17.666667</td>\n",
       "      <td>0.300000</td>\n",
       "      <td>1.066667</td>\n",
       "      <td>536809.8</td>\n",
       "      <td>510151.9</td>\n",
       "      <td>4</td>\n",
       "      <td>76655.0</td>\n",
       "    </tr>\n",
       "    <tr>\n",
       "      <td>4</td>\n",
       "      <td>2</td>\n",
       "      <td>169560</td>\n",
       "      <td>1</td>\n",
       "      <td>14.500000</td>\n",
       "      <td>27.666667</td>\n",
       "      <td>0.300000</td>\n",
       "      <td>1.700000</td>\n",
       "      <td>536809.8</td>\n",
       "      <td>510151.9</td>\n",
       "      <td>4</td>\n",
       "      <td>76310.0</td>\n",
       "    </tr>\n",
       "  </tbody>\n",
       "</table>\n",
       "</div>"
      ],
      "text/plain": [
       "   Districts_N    Area  Crop_N   Min_Temp   Rainfall  Wind_Speed  \\\n",
       "0            2  163915       1  15.933333  26.000000    0.333333   \n",
       "1            2  169130       1  14.833333   8.000000    0.433333   \n",
       "2            2  178380       1  14.333333  11.000000    0.366667   \n",
       "3            2  176380       1  13.666667  17.666667    0.300000   \n",
       "4            2  169560       1  14.500000  27.666667    0.300000   \n",
       "\n",
       "   Cloud_Coverage     X_COR     Y_COR  ALT  Productions  \n",
       "0        1.100000  536809.8  510151.9    4      67525.0  \n",
       "1        1.333333  536809.8  510151.9    4      76485.0  \n",
       "2        1.233333  536809.8  510151.9    4      75495.0  \n",
       "3        1.066667  536809.8  510151.9    4      76655.0  \n",
       "4        1.700000  536809.8  510151.9    4      76310.0  "
      ]
     },
     "execution_count": 2,
     "metadata": {},
     "output_type": "execute_result"
    }
   ],
   "source": [
    "dataset = pd.read_csv(r'/home/akhtar/Desktop/Ml Algorithms/Dataset/crops.csv')\n",
    "dataset_10 = dataset.drop(['Max_Temp', 'Bright_Sunshine', 'Year', 'LATITUDE','LONGITUDE', 'Humidity', 'Category_N'], axis = 1)\n",
    "dataset_10.head()\n",
    "\n",
    "\n",
    "dataset_10.head()"
   ]
  },
  {
   "cell_type": "code",
   "execution_count": 3,
   "metadata": {},
   "outputs": [],
   "source": [
    "X = dataset_10.iloc[:, :-1]\n",
    "y = dataset_10.iloc[:, -1]"
   ]
  },
  {
   "cell_type": "code",
   "execution_count": 4,
   "metadata": {},
   "outputs": [],
   "source": [
    "from sklearn.preprocessing import StandardScaler\n",
    "sc_X = StandardScaler()\n",
    "sc_y = StandardScaler()\n",
    "X = sc_X.fit_transform(X)\n",
    "y = sc_y.fit_transform(y.values.reshape(-1,1))"
   ]
  },
  {
   "cell_type": "code",
   "execution_count": 5,
   "metadata": {},
   "outputs": [],
   "source": [
    "from sklearn.model_selection import train_test_split\n",
    "X_train, X_test, y_train, y_test = train_test_split(X, y, test_size=0.2)"
   ]
  },
  {
   "cell_type": "code",
   "execution_count": 6,
   "metadata": {},
   "outputs": [
    {
     "name": "stdout",
     "output_type": "stream",
     "text": [
      "Accurecy:  0.6150385707770547\n"
     ]
    }
   ],
   "source": [
    "from sklearn.linear_model import LinearRegression\n",
    "\n",
    "linear = LinearRegression()\n",
    "model = linear.fit(X_train, y_train)\n",
    "\n",
    "#linear.coef_\n",
    "y_pred = linear.predict(X_test)\n",
    "\n",
    "#np.mean((y_test - y_pred)**2)\n",
    "\n",
    "print(\"Accurecy: \", r2_score(y_test, y_pred))"
   ]
  },
  {
   "cell_type": "code",
   "execution_count": null,
   "metadata": {},
   "outputs": [],
   "source": []
  },
  {
   "cell_type": "code",
   "execution_count": null,
   "metadata": {},
   "outputs": [],
   "source": []
  }
 ],
 "metadata": {
  "kernelspec": {
   "display_name": "Python 3",
   "language": "python",
   "name": "python3"
  },
  "language_info": {
   "codemirror_mode": {
    "name": "ipython",
    "version": 3
   },
   "file_extension": ".py",
   "mimetype": "text/x-python",
   "name": "python",
   "nbconvert_exporter": "python",
   "pygments_lexer": "ipython3",
   "version": "3.7.4"
  }
 },
 "nbformat": 4,
 "nbformat_minor": 2
}
