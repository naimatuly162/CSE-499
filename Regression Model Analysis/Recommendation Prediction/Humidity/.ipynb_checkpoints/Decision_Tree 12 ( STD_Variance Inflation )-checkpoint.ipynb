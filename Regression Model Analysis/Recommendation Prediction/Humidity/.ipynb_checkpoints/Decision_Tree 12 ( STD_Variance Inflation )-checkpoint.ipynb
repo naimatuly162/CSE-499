{
 "cells": [
  {
   "cell_type": "code",
   "execution_count": 1,
   "metadata": {},
   "outputs": [],
   "source": [
    "import numpy as np\n",
    "import pandas as pd\n",
    "import seaborn as sns\n",
    "from scipy import stats\n",
    "import matplotlib.pyplot as plt\n",
    "from sklearn.feature_selection import SelectKBest\n",
    "import statsmodels.api as sm\n",
    "from statsmodels.stats import diagnostic as diag\n",
    "from statsmodels.stats.outliers_influence import variance_inflation_factor\n",
    "from sklearn.feature_selection import chi2\n",
    "\n",
    "from sklearn.metrics import mean_squared_error, r2_score, mean_absolute_error"
   ]
  },
  {
   "cell_type": "code",
   "execution_count": 2,
   "metadata": {},
   "outputs": [
    {
     "data": {
      "text/html": [
       "<div>\n",
       "<style scoped>\n",
       "    .dataframe tbody tr th:only-of-type {\n",
       "        vertical-align: middle;\n",
       "    }\n",
       "\n",
       "    .dataframe tbody tr th {\n",
       "        vertical-align: top;\n",
       "    }\n",
       "\n",
       "    .dataframe thead th {\n",
       "        text-align: right;\n",
       "    }\n",
       "</style>\n",
       "<table border=\"1\" class=\"dataframe\">\n",
       "  <thead>\n",
       "    <tr style=\"text-align: right;\">\n",
       "      <th></th>\n",
       "      <th>Districts_N</th>\n",
       "      <th>Area</th>\n",
       "      <th>Category_N</th>\n",
       "      <th>Crop_N</th>\n",
       "      <th>Year</th>\n",
       "      <th>Rainfall</th>\n",
       "    </tr>\n",
       "  </thead>\n",
       "  <tbody>\n",
       "    <tr>\n",
       "      <td>0</td>\n",
       "      <td>2</td>\n",
       "      <td>163915</td>\n",
       "      <td>1</td>\n",
       "      <td>1</td>\n",
       "      <td>1979</td>\n",
       "      <td>26.000</td>\n",
       "    </tr>\n",
       "    <tr>\n",
       "      <td>1</td>\n",
       "      <td>2</td>\n",
       "      <td>169130</td>\n",
       "      <td>1</td>\n",
       "      <td>1</td>\n",
       "      <td>1980</td>\n",
       "      <td>8.000</td>\n",
       "    </tr>\n",
       "    <tr>\n",
       "      <td>2</td>\n",
       "      <td>2</td>\n",
       "      <td>178380</td>\n",
       "      <td>1</td>\n",
       "      <td>1</td>\n",
       "      <td>1981</td>\n",
       "      <td>11.000</td>\n",
       "    </tr>\n",
       "    <tr>\n",
       "      <td>3</td>\n",
       "      <td>2</td>\n",
       "      <td>176380</td>\n",
       "      <td>1</td>\n",
       "      <td>1</td>\n",
       "      <td>1982</td>\n",
       "      <td>17.667</td>\n",
       "    </tr>\n",
       "    <tr>\n",
       "      <td>4</td>\n",
       "      <td>2</td>\n",
       "      <td>169560</td>\n",
       "      <td>1</td>\n",
       "      <td>1</td>\n",
       "      <td>1983</td>\n",
       "      <td>27.667</td>\n",
       "    </tr>\n",
       "  </tbody>\n",
       "</table>\n",
       "</div>"
      ],
      "text/plain": [
       "   Districts_N    Area  Category_N  Crop_N  Year  Rainfall\n",
       "0            2  163915           1       1  1979    26.000\n",
       "1            2  169130           1       1  1980     8.000\n",
       "2            2  178380           1       1  1981    11.000\n",
       "3            2  176380           1       1  1982    17.667\n",
       "4            2  169560           1       1  1983    27.667"
      ]
     },
     "execution_count": 2,
     "metadata": {},
     "output_type": "execute_result"
    }
   ],
   "source": [
    "dataset = pd.read_csv(r'/home/akhtar/Desktop/Ml Algorithms/Dataset/crops.csv')\n",
    "dataset_12 = dataset.drop(['Max_Temp', 'X_COR', 'Y_COR', 'LATITUDE','LONGITUDE','Min_Temp','Rainfall','Wind_Speed','Cloud_Coverage','Bright_Sunshine','ALT','Productions'], axis = 1)\n",
    "dataset_12.head()"
   ]
  },
  {
   "cell_type": "code",
   "execution_count": 3,
   "metadata": {},
   "outputs": [],
   "source": [
    "X = dataset_12.iloc[:, :-1]\n",
    "y = dataset_12.iloc[:, -1]"
   ]
  },
  {
   "cell_type": "code",
   "execution_count": 4,
   "metadata": {},
   "outputs": [],
   "source": [
    "from sklearn.preprocessing import StandardScaler\n",
    "sc_X = StandardScaler()\n",
    "sc_y = StandardScaler()\n",
    "X = sc_X.fit_transform(X)\n",
    "y = sc_y.fit_transform(y.values.reshape(-1,1))"
   ]
  },
  {
   "cell_type": "code",
   "execution_count": 5,
   "metadata": {},
   "outputs": [],
   "source": [
    "from sklearn.model_selection import train_test_split\n",
    "X_train, X_test, y_train, y_test = train_test_split(X, y, test_size=0.2)"
   ]
  },
  {
   "cell_type": "code",
   "execution_count": 6,
   "metadata": {},
   "outputs": [
    {
     "name": "stdout",
     "output_type": "stream",
     "text": [
      "Accurecy:  0.8398800610811759\n"
     ]
    }
   ],
   "source": [
    "from sklearn.tree import DecisionTreeRegressor\n",
    "\n",
    "regressor = DecisionTreeRegressor()\n",
    "\n",
    "regressor.fit(X_train, y_train)\n",
    "y_pred = regressor.predict(X_test)\n",
    "\n",
    "print(\"Accurecy: \", r2_score(y_test, y_pred))"
   ]
  },
  {
   "cell_type": "markdown",
   "metadata": {},
   "source": [
    "# Cross Validation"
   ]
  },
  {
   "cell_type": "code",
   "execution_count": 7,
   "metadata": {},
   "outputs": [
    {
     "name": "stdout",
     "output_type": "stream",
     "text": [
      "Cross Validation Score:  [-0.09929531 -1.09384493  0.76487646  0.5999856   0.42705566  0.01134291\n",
      "  0.92521699  0.77311274  0.68441373  0.15779645 -0.44822675 -0.2484507\n",
      " -3.67055433  0.07339172  0.60166014  0.48121274  0.84686315 -7.88607056\n",
      " -0.13755766 -0.25949284 -0.30461278  0.18750923 -1.39949476 -0.71864465\n",
      "  0.13885373 -0.59114095  0.0607817  -0.30238825 -2.04680921  0.05477504\n",
      " -0.31207354 -4.29377249 -0.10178955 -0.3917848  -2.14387988 -2.1700644\n",
      " -1.15174961 -0.084242    0.35328471  0.10892049 -0.00803872 -0.62114083\n",
      " -0.76487193 -0.50831215 -1.18789994  0.19664825 -0.07988918  0.39242464\n",
      " -0.02742034  0.22956091  0.42327993  0.63286792 -0.0453996   0.25445224\n",
      " -0.23126911  0.34445907 -0.20523688]\n",
      "\n",
      "Cross Predicted Accuracy: 0.6013130463711776\n"
     ]
    }
   ],
   "source": [
    "# from sklearn.model_selection import cross_val_score, cross_val_predict\n",
    "\n",
    "# print(\"Cross Validation Score: \", cross_val_score(regressor,X,y, cv=57))\n",
    "\n",
    "# print()\n",
    "# predictions = cross_val_predict(regressor,X,y, cv=57)\n",
    "# accuracy = r2_score(y, predictions)\n",
    "# print (\"Cross Predicted Accuracy:\", accuracy)"
   ]
  },
  {
   "cell_type": "code",
   "execution_count": null,
   "metadata": {},
   "outputs": [],
   "source": []
  }
 ],
 "metadata": {
  "kernelspec": {
   "display_name": "Python 3",
   "language": "python",
   "name": "python3"
  },
  "language_info": {
   "codemirror_mode": {
    "name": "ipython",
    "version": 3
   },
   "file_extension": ".py",
   "mimetype": "text/x-python",
   "name": "python",
   "nbconvert_exporter": "python",
   "pygments_lexer": "ipython3",
   "version": "3.7.4"
  }
 },
 "nbformat": 4,
 "nbformat_minor": 2
}
